{
 "cells": [
  {
   "cell_type": "code",
   "execution_count": 1,
   "id": "3a0977a7",
   "metadata": {},
   "outputs": [],
   "source": [
    "alist = ['My', 'Name', 'is', 'Andrew', 'Kim']"
   ]
  },
  {
   "cell_type": "code",
   "execution_count": 3,
   "id": "b752386c",
   "metadata": {},
   "outputs": [
    {
     "name": "stdout",
     "output_type": "stream",
     "text": [
      "My is at index 0.\n",
      "Name is at index 1.\n",
      "is is at index 2.\n",
      "Andrew is at index 3.\n",
      "Kim is at index 4.\n"
     ]
    }
   ],
   "source": [
    "for i in enumerate(alist):\n",
    "    a, b = i \n",
    "    print(f'{b} is at index {a}.')"
   ]
  },
  {
   "cell_type": "code",
   "execution_count": null,
   "id": "ffcd3f08",
   "metadata": {},
   "outputs": [],
   "source": []
  }
 ],
 "metadata": {
  "kernelspec": {
   "display_name": "Python 3 (ipykernel)",
   "language": "python",
   "name": "python3"
  },
  "language_info": {
   "codemirror_mode": {
    "name": "ipython",
    "version": 3
   },
   "file_extension": ".py",
   "mimetype": "text/x-python",
   "name": "python",
   "nbconvert_exporter": "python",
   "pygments_lexer": "ipython3",
   "version": "3.9.7"
  }
 },
 "nbformat": 4,
 "nbformat_minor": 5
}
